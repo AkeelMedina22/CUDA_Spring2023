{
  "nbformat": 4,
  "nbformat_minor": 0,
  "metadata": {
    "colab": {
      "provenance": [],
      "include_colab_link": true
    },
    "kernelspec": {
      "name": "python3",
      "display_name": "Python 3"
    },
    "language_info": {
      "name": "python"
    },
    "accelerator": "GPU",
    "gpuClass": "standard"
  },
  "cells": [
    {
      "cell_type": "markdown",
      "metadata": {
        "id": "view-in-github",
        "colab_type": "text"
      },
      "source": [
        "<a href=\"https://colab.research.google.com/github/mmmovania/CUDA_Spring2023/blob/main/Week4/MatrixMultiplicationSolution.ipynb\" target=\"_parent\"><img src=\"https://colab.research.google.com/assets/colab-badge.svg\" alt=\"Open In Colab\"/></a>"
      ]
    },
    {
      "cell_type": "code",
      "execution_count": 3,
      "metadata": {
        "colab": {
          "base_uri": "https://localhost:8080/"
        },
        "id": "-YhC1zB4-2ST",
        "outputId": "fbe5ce1a-35e5-4d47-fe32-f7c9ab26d726"
      },
      "outputs": [
        {
          "output_type": "stream",
          "name": "stdout",
          "text": [
            "Looking in indexes: https://pypi.org/simple, https://us-python.pkg.dev/colab-wheels/public/simple/\n",
            "Collecting git+https://github.com/andreinechaev/nvcc4jupyter.git\n",
            "  Cloning https://github.com/andreinechaev/nvcc4jupyter.git to /tmp/pip-req-build-pfjgre23\n",
            "  Running command git clone --filter=blob:none --quiet https://github.com/andreinechaev/nvcc4jupyter.git /tmp/pip-req-build-pfjgre23\n",
            "  Resolved https://github.com/andreinechaev/nvcc4jupyter.git to commit aac710a35f52bb78ab34d2e52517237941399eff\n",
            "  Preparing metadata (setup.py) ... \u001b[?25l\u001b[?25hdone\n",
            "Building wheels for collected packages: NVCCPlugin\n",
            "  Building wheel for NVCCPlugin (setup.py) ... \u001b[?25l\u001b[?25hdone\n",
            "  Created wheel for NVCCPlugin: filename=NVCCPlugin-0.0.2-py3-none-any.whl size=4304 sha256=f6927d4a82384d379d01c0178de2920e8f3f8363c7ccfa4a78994170f2a2d81d\n",
            "  Stored in directory: /tmp/pip-ephem-wheel-cache-skc88vr8/wheels/f3/08/cc/e2b5b0e1c92df07dbb50a6f024a68ce090f5e7b2316b41756d\n",
            "Successfully built NVCCPlugin\n",
            "Installing collected packages: NVCCPlugin\n",
            "Successfully installed NVCCPlugin-0.0.2\n",
            "created output directory at /content/src\n",
            "Out bin /content/result.out\n"
          ]
        }
      ],
      "source": [
        "!pip install git+https://github.com/andreinechaev/nvcc4jupyter.git\n",
        "%load_ext nvcc_plugin"
      ]
    },
    {
      "cell_type": "code",
      "source": [
        "%%cu\n",
        "#include <stdio.h>\n",
        "#include <cuda.h>\n",
        "\n",
        "__global__ void MatrixMulKernel(float* d_M, float* d_N, float* d_P, int Width) {\n",
        "\t// Calculate the row index of the d_Pelement and d_M\n",
        "\tint Row = blockIdx.y*blockDim.y+threadIdx.y;\n",
        "\t// Calculate the column index of d_P and d_N\n",
        "\tint Col = blockIdx.x*blockDim.x+threadIdx.x;\n",
        "\tif ((Row < Width) && (Col < Width)) {\n",
        "\t\tfloat Pvalue = 0;\n",
        "\t\t// each thread computes one element of the block sub-matrix\n",
        "\t\tfor (int k = 0; k < Width; ++k) {\n",
        "\t\t\tPvalue += d_M[Row*Width+k]*d_N[k*Width+Col];\n",
        "\t\t}\n",
        "\t\td_P[Row*Width+Col] = Pvalue;\n",
        "\t}\n",
        "}\n",
        "\n",
        "void MatrixMultHost(float* A, float* B, float* C, int N)\n",
        "{\n",
        "\tfor (int i = 0; i < N; ++i)\n",
        "\t{\n",
        "\t\tfor (int j = 0; j < N; ++j)\n",
        "\t\t{\n",
        "\t\t\tfloat Pvalue = 0;\n",
        "\t\t\tfor (int k = 0; k < N; ++k)\n",
        "\t\t\t{\n",
        "\t\t\t\tPvalue += A[i*N + k] * B[k*N + j];\n",
        "\t\t\t}\n",
        "\t\t\tC[j + i*N] = Pvalue;\n",
        "\t\t}\n",
        "\t}\n",
        "}\n",
        "\n",
        "int main(int argc, char** argv)\n",
        "{\n",
        "\tconst int N = 100;\n",
        "\tconst int SIZE = N*N;\n",
        "\tconst int SIZE_IN_BYTES = SIZE * sizeof(float);\n",
        "\n",
        "\tfloat* h_A = (float*)malloc(SIZE_IN_BYTES);\n",
        "\tfloat* h_B = (float*)malloc(SIZE_IN_BYTES);\n",
        "\tfloat* h_C = (float*)malloc(SIZE_IN_BYTES);\n",
        "\tfloat* h_CD = (float*)malloc(SIZE_IN_BYTES); //device calc res\n",
        "\n",
        "\t// Initialize matrices on the host\n",
        "\tfor (int i = 0; i < N; i++) {\n",
        "\t\t for (int j = 0; j < N; j++) {\n",
        "\t\t\t h_A[i*N + j] = (float) (rand() % 1024);\n",
        "\t\t\t h_B[i*N + j] = (float) (rand() % 1024);\n",
        "\t\t }\n",
        "\t}\n",
        "\n",
        "\tfloat* d_A;\n",
        "\tfloat* d_B;\n",
        "\tfloat* d_C;\n",
        "\n",
        "\tcudaMalloc(&d_A, SIZE_IN_BYTES);\n",
        "\tcudaMalloc(&d_B, SIZE_IN_BYTES);\n",
        "\tcudaMalloc(&d_C, SIZE_IN_BYTES);\n",
        "\n",
        "\tcudaMemcpy(d_A, h_A, SIZE_IN_BYTES, cudaMemcpyHostToDevice);\n",
        "\tcudaMemcpy(d_B, h_B, SIZE_IN_BYTES, cudaMemcpyHostToDevice);\n",
        "\n",
        "\tdim3    blocksGrid;\n",
        "\tdim3    threadsBlock(16, 16, 1);\n",
        "\n",
        "\tblocksGrid.x = (N + threadsBlock.x - 1) / threadsBlock.x;\n",
        "\tblocksGrid.y = (N + threadsBlock.y - 1) / threadsBlock.y;\n",
        "\n",
        "\tfloat gpu_elapsed_time_ms, cpu_elapsed_time_ms;\n",
        "\n",
        "\t// some events to count the execution time\n",
        "\tcudaEvent_t start, stop;\n",
        "\tcudaEventCreate(&start);\n",
        "\tcudaEventCreate(&stop);\n",
        "\n",
        "\t// start to count execution time of GPU version\n",
        "\tcudaEventRecord(start, 0);\n",
        "\n",
        "\tMatrixMulKernel << <blocksGrid, threadsBlock >> > (d_A, d_B, d_C, N);\n",
        "\n",
        "\tcudaMemcpy(h_CD, d_C, SIZE_IN_BYTES, cudaMemcpyDeviceToHost);\n",
        "\t \n",
        "\t// time counting terminate\n",
        "\tcudaEventRecord(stop, 0);\n",
        "\tcudaEventSynchronize(stop);\n",
        "\n",
        "\t// compute time elapse on GPU computing\n",
        "\tcudaEventElapsedTime(&gpu_elapsed_time_ms, start, stop);\n",
        "\tprintf(\"Time elapsed (GPU): %f ms.\\n\", gpu_elapsed_time_ms);\n",
        "\n",
        "\t// start the CPU version\n",
        "\tcudaEventRecord(start, 0);\n",
        "\tMatrixMultHost(h_A, h_B, h_C, N);\n",
        "\n",
        "\tcudaEventRecord(stop, 0);\n",
        "\tcudaEventSynchronize(stop);\n",
        "\tcudaEventElapsedTime(&cpu_elapsed_time_ms, start, stop);\n",
        "\tprintf(\"Time elapsed (CPU): %f ms.\\n\", cpu_elapsed_time_ms);\n",
        "\n",
        "\t//validate results \n",
        "\t// validate results computed by GPU\n",
        "\tint all_ok = 1;\n",
        "\tfor (int i = 0; i < N; ++i)\n",
        "\t{\n",
        "\t\tfor (int j = 0; j < N; ++j)\n",
        "\t\t{ \n",
        "\t\t\tif (h_C[j*N + i] != h_CD[j*N + i])\n",
        "\t\t\t{\n",
        "\t\t\t\tall_ok = 0;\n",
        "\t\t\t}\n",
        "\t\t} \n",
        "\t}\n",
        "\n",
        "\t// roughly compute speedup\n",
        "\tif (all_ok)\n",
        "\t{\n",
        "\t\tprintf(\"All results are correct!!!, speedup = %f\\n\", cpu_elapsed_time_ms / gpu_elapsed_time_ms);\n",
        "\t}\n",
        "\telse\n",
        "\t{\n",
        "\t\tprintf(\"incorrect results\\n\");\n",
        "\t}\n",
        "\n",
        "\n",
        "\tfree(h_A);\n",
        "\tfree(h_B);\n",
        "\tfree(h_C);\n",
        "\tfree(h_CD);\n",
        "\n",
        "\tcudaFree(&d_A);\n",
        "\tcudaFree(&d_B);\n",
        "\tcudaFree(&d_C);\n",
        "\n",
        "\tcudaDeviceReset();\n",
        "\treturn 0;\n",
        "}"
      ],
      "metadata": {
        "colab": {
          "base_uri": "https://localhost:8080/"
        },
        "outputId": "8bdd5177-c500-4f5c-b1d1-b0c59be51208",
        "id": "vv9zO7izP6sL"
      },
      "execution_count": 6,
      "outputs": [
        {
          "output_type": "stream",
          "name": "stdout",
          "text": [
            "Time elapsed (GPU): 0.077184 ms.\n",
            "Time elapsed (CPU): 3.037888 ms.\n",
            "All results are correct!!!, speedup = 39.359039\n",
            "\n"
          ]
        }
      ]
    }
  ]
}